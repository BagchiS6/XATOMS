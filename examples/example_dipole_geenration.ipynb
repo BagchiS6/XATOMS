{
 "cells": [
  {
   "cell_type": "code",
   "execution_count": 9,
   "metadata": {},
   "outputs": [],
   "source": [
    "from XATOMS.utils import preprocessors\n",
    "import numpy as np\n",
    "import json"
   ]
  },
  {
   "cell_type": "code",
   "execution_count": 2,
   "metadata": {},
   "outputs": [],
   "source": [
    "with open('input_paramters.json','r') as file:\n",
    "        input_params = json.load(file)\n",
    "lmp_input = preprocessors.generate_lammps_input(input_params=input_params)"
   ]
  },
  {
   "cell_type": "code",
   "execution_count": 6,
   "metadata": {},
   "outputs": [],
   "source": [
    "from XATOMS.structure_generators import dipolegen as dg"
   ]
  },
  {
   "cell_type": "code",
   "execution_count": 8,
   "metadata": {},
   "outputs": [
    {
     "name": "stdout",
     "output_type": "stream",
     "text": [
      "1.5166225913766168e-16\n",
      " ___________________________________________________\n",
      "|              ___________                          |\n",
      "|     o---o    A T O M S K                          |\n",
      "|    o---o|    Version Beta 0.13                    |\n",
      "|    |   |o    (C) 2010 Pierre Hirel                |\n",
      "|    o---o     https://atomsk.univ-lille.fr         |\n",
      "|___________________________________________________|\n",
      ">>> Creating system:\n",
      "..> Bcc Fe oriented X=[1-2-1], Y=[11-1], Z=[101].\n",
      "..> System was successfully created.\n",
      ">>> Duplicating the system: 29 x 61 x 50\n",
      "..> System was successfully duplicated (530700 atoms).\n",
      ">>> Reading system properties from Fe_prop.txt\n",
      "..> Property 'elastic tensor' was read.\n",
      "..> Anisotropy ratio:  A = 2*C44 / (C11-C12) = 2.429\n",
      "..> Anisotropy factor: H = 2*C44 + C12 - C11 = 0.140E+03\n",
      "..> Property 'system orientation' was read.\n",
      "..> Elastic tensor was rotated.\n",
      "..> Finished reading system properties.\n",
      ">>> Inserting a mixed dislocation with line along y,\n",
      "    using anisotropic elasticity,\n",
      "    conserving the total number of atoms,\n",
      "    b=[0.000 2.477 0.000] at (101.580,151.674)\n",
      "..> Searching the solutions to the anisotropic elasticity equations...\n",
      "..> The solutions were found.\n",
      "..> Dislocation stresses were computed.\n",
      "..> Prelogarithmic energy factor: Kb²/4pi = -17.12182571\n",
      "..> One dislocation was successfully inserted.\n",
      ">>> Inserting a mixed dislocation with line along y,\n",
      "    using anisotropic elasticity,\n",
      "    conserving the total number of atoms,\n",
      "    b=[-0.000 -2.477 0.000] at (101.580,50.558)\n",
      "..> Searching the solutions to the anisotropic elasticity equations...\n",
      "..> The solutions were found.\n",
      "..> Dislocation stresses were computed.\n",
      "..> Prelogarithmic energy factor: Kb²/4pi = -17.12182571\n",
      "..> One dislocation was successfully inserted.\n",
      ">>> Writing output file(s) (530700 atoms):\n",
      "..> Successfully wrote LAMMPS data file: dipole_diff_glideplane_Fe_0.lmp\n",
      "\\o/ Program terminated successfully!\n",
      "    Total time: 1.209 s.; CPU time: 1.202 s.\n",
      " ___________________________________________________\n",
      "|              ___________                          |\n",
      "|     o---o    A T O M S K                          |\n",
      "|    o---o|    Version Beta 0.13                    |\n",
      "|    |   |o    (C) 2010 Pierre Hirel                |\n",
      "|    o---o     https://atomsk.univ-lille.fr         |\n",
      "|___________________________________________________|\n",
      ">>> Creating system:\n",
      "..> Bcc Fe oriented X=[1-2-1], Y=[11-1], Z=[101].\n",
      "..> System was successfully created.\n",
      ">>> Duplicating the system: 29 x 61 x 50\n",
      "..> System was successfully duplicated (530700 atoms).\n",
      ">>> Writing output file(s) (530700 atoms):\n",
      "..> Successfully wrote LAMMPS data file: simple_pristine.lmp\n",
      "\\o/ Program terminated successfully!\n",
      "    Total time: 0.728 s.; CPU time: 0.724 s.\n"
     ]
    }
   ],
   "source": [
    "alat=2.86\n",
    "theta = 0\n",
    "num_im_corr = 4\n",
    "zhi = list(eval('[1,1,-1]'))\n",
    "dipole_outfile = f'md_metadata/pbc_correct_dipole.lmp'\n",
    "dipole_struc = dg.GenDipole(angle=theta, \n",
    "                            line_direction=(np.array(zhi)/np.gcd.reduce(zhi)).astype(int), \n",
    "                            lattice_const=alat, \n",
    "                            z_basis=np.array([1,0,1]), \n",
    "                            Lx_max=200, Lz_max=200, Ly_max=150,\n",
    "                            atomsk_bin_path='/Users/sny/anaconda3/envs/auto_synth/bin/atomsk')\n",
    "\n",
    "\n",
    "dipole_struc.gen_diff_glideplane_struc(num_im_corr)\n",
    "dipole_struc.periodic_corr(dipole_outfile)"
   ]
  },
  {
   "cell_type": "code",
   "execution_count": null,
   "metadata": {},
   "outputs": [],
   "source": []
  }
 ],
 "metadata": {
  "kernelspec": {
   "display_name": "auto_synth",
   "language": "python",
   "name": "python3"
  },
  "language_info": {
   "codemirror_mode": {
    "name": "ipython",
    "version": 3
   },
   "file_extension": ".py",
   "mimetype": "text/x-python",
   "name": "python",
   "nbconvert_exporter": "python",
   "pygments_lexer": "ipython3",
   "version": "3.11.6"
  }
 },
 "nbformat": 4,
 "nbformat_minor": 2
}
