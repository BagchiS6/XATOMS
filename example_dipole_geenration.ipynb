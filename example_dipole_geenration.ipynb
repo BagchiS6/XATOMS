{
 "cells": [
  {
   "cell_type": "code",
   "execution_count": 1,
   "metadata": {},
   "outputs": [],
   "source": [
    "from utils import preprocessors\n",
    "import numpy as np\n",
    "import json"
   ]
  },
  {
   "cell_type": "code",
   "execution_count": 2,
   "metadata": {},
   "outputs": [],
   "source": [
    "with open('input_paramters.json','r') as file:\n",
    "        input_params = json.load(file)\n",
    "lmp_input = preprocessors.generate_lammps_input(input_params=input_params)"
   ]
  },
  {
   "cell_type": "code",
   "execution_count": null,
   "metadata": {},
   "outputs": [],
   "source": [
    "from structure_generators import dipole_gen_4 as dg"
   ]
  },
  {
   "cell_type": "code",
   "execution_count": null,
   "metadata": {},
   "outputs": [],
   "source": [
    "alat=2.86\n",
    "theta = 0\n",
    "num_im_corr = 4\n",
    "zhi = list(eval('[1,1,-1]'))\n",
    "dipole_outfile = f'md_metadata/pbc_correct_dipole.lmp'\n",
    "dipole_struc = dg.GenDipole(angle=theta, \n",
    "                            line_direction=(np.array(zhi)/np.gcd.reduce(zhi)).astype(int), \n",
    "                            lattice_const=alat, \n",
    "                            z_basis=np.array([1,0,1]), \n",
    "                            Lx_max=200, Lz_max=200, Ly_max=150)\n",
    "\n",
    "\n",
    "dipole_struc.gen_diff_glideplane_struc(num_im_corr)\n",
    "dipole_struc.periodic_corr(dipole_outfile)"
   ]
  },
  {
   "cell_type": "code",
   "execution_count": null,
   "metadata": {},
   "outputs": [],
   "source": []
  }
 ],
 "metadata": {
  "kernelspec": {
   "display_name": "auto_synth",
   "language": "python",
   "name": "python3"
  },
  "language_info": {
   "codemirror_mode": {
    "name": "ipython",
    "version": 3
   },
   "file_extension": ".py",
   "mimetype": "text/x-python",
   "name": "python",
   "nbconvert_exporter": "python",
   "pygments_lexer": "ipython3",
   "version": "3.11.6"
  }
 },
 "nbformat": 4,
 "nbformat_minor": 2
}
